{
  "nbformat": 4,
  "nbformat_minor": 0,
  "metadata": {
    "colab": {
      "provenance": []
    },
    "kernelspec": {
      "name": "python3",
      "display_name": "Python 3"
    },
    "language_info": {
      "name": "python"
    }
  },
  "cells": [
    {
      "cell_type": "code",
      "source": [],
      "metadata": {
        "id": "-d0aTcMjSPwQ"
      },
      "execution_count": null,
      "outputs": []
    },
    {
      "cell_type": "code",
      "source": [
        "pip install torch"
      ],
      "metadata": {
        "id": "DtK1IkkndlEn",
        "colab": {
          "base_uri": "https://localhost:8080/"
        },
        "outputId": "8cf24d53-1518-4aaf-d86d-13bb32b73b5e"
      },
      "execution_count": 3,
      "outputs": [
        {
          "output_type": "stream",
          "name": "stdout",
          "text": [
            "Requirement already satisfied: torch in /usr/local/lib/python3.10/dist-packages (2.5.1+cu121)\n",
            "Requirement already satisfied: filelock in /usr/local/lib/python3.10/dist-packages (from torch) (3.16.1)\n",
            "Requirement already satisfied: typing-extensions>=4.8.0 in /usr/local/lib/python3.10/dist-packages (from torch) (4.12.2)\n",
            "Requirement already satisfied: networkx in /usr/local/lib/python3.10/dist-packages (from torch) (3.4.2)\n",
            "Requirement already satisfied: jinja2 in /usr/local/lib/python3.10/dist-packages (from torch) (3.1.5)\n",
            "Requirement already satisfied: fsspec in /usr/local/lib/python3.10/dist-packages (from torch) (2024.10.0)\n",
            "Requirement already satisfied: sympy==1.13.1 in /usr/local/lib/python3.10/dist-packages (from torch) (1.13.1)\n",
            "Requirement already satisfied: mpmath<1.4,>=1.1.0 in /usr/local/lib/python3.10/dist-packages (from sympy==1.13.1->torch) (1.3.0)\n",
            "Requirement already satisfied: MarkupSafe>=2.0 in /usr/local/lib/python3.10/dist-packages (from jinja2->torch) (3.0.2)\n"
          ]
        }
      ]
    },
    {
      "cell_type": "code",
      "source": [
        "import torch\n",
        "import torch.nn as nn\n",
        "import torch.nn.functional as F"
      ],
      "metadata": {
        "id": "6ZFRCDW0dsJH"
      },
      "execution_count": 4,
      "outputs": []
    },
    {
      "cell_type": "code",
      "source": [
        "import os\n",
        "import numpy\n",
        "import pandas as pd\n",
        "import seaborn as sns\n",
        "import matplotlib.pyplot as plt\n",
        "import matplotlib.colors as colors\n",
        "\n",
        "from sklearn.utils import resample\n",
        "from sklearn.model_selection import train_test_split\n",
        "from sklearn.preprocessing import scale\n",
        "\n",
        "from sklearn.ensemble import RandomForestClassifier\n",
        "from sklearn.svm import SVC\n",
        "from sklearn.linear_model import LogisticRegression\n",
        "\n",
        "from sklearn.decomposition import PCA\n",
        "# Instead of importing plot_confusion_matrix, import ConfusionMatrixDisplay\n",
        "from sklearn.metrics import ConfusionMatrixDisplay\n",
        "from sklearn.metrics import confusion_matrix\n",
        "from sklearn.preprocessing import StandardScaler\n",
        "from sklearn.model_selection import train_test_split, GridSearchCV, cross_val_score\n",
        "\n",
        "%matplotlib inline"
      ],
      "metadata": {
        "id": "gO99x5W5JcjS"
      },
      "execution_count": 5,
      "outputs": []
    },
    {
      "cell_type": "code",
      "source": [
        "df_csv = pd.read_csv('/all_ceden_sites_2024-11-01.csv', header=1, sep='\\t')\n",
        "\n",
        "# Read the Excel file\n",
        "#df_excel = pd.read_excel('/content/RSEI Score.xlsx', header=1)\n",
        "\n",
        "print(\"CSV File Data:\")\n",
        "print(df_csv.head())\n",
        "print()\n",
        "#print(\"\\nExcel File Data:\")\n",
        "#print(df_excel.head())"
      ],
      "metadata": {
        "id": "h5Eb18FoSGAR",
        "colab": {
          "base_uri": "https://localhost:8080/"
        },
        "outputId": "05b14f84-4f71-496c-b9ee-334b2aa3a4f0"
      },
      "execution_count": 7,
      "outputs": [
        {
          "output_type": "stream",
          "name": "stdout",
          "text": [
            "CSV File Data:\n",
            "  Brush Creek 100ft US Transect K,BC-100UTK,38.45448,-122.68006,WGS84\n",
            "0  Adobe Springs - Lower,ADSPR-3,33.5881,-117.135...                 \n",
            "1  Brush Creek 100ft DS Transect A,BC-100DTA,38.4...                 \n",
            "2  Brush Creek Transect F,BC-TF,38.45575,-122.679...                 \n",
            "3  Santa Rosa Creek 100ft DS Transect A,SRC-100DT...                 \n",
            "4  Adobe Springs - Middle,ADSPR-2,33.587,-117.131...                 \n",
            "\n"
          ]
        }
      ]
    },
    {
      "cell_type": "code",
      "source": [
        "# df_excel.drop(['Unnamed: 0'], axis=1, inplace=True)\n",
        "df_csv.dtypes\n",
        "print(\"Next Value: \")\n",
        "df_excel.dtypes"
      ],
      "metadata": {
        "id": "zsvnC7jtFRwP"
      },
      "execution_count": null,
      "outputs": []
    },
    {
      "cell_type": "code",
      "source": [
        "#df_csv = pd.read_csv('/content/Toxic_Tracker.csv', sep=',')\n",
        "print(df_csv.columns)\n",
        "len(df_csv.loc[(df_csv['RSEI Hazard'] == 0) | (df_csv['ZIP Code'] == 0)])"
      ],
      "metadata": {
        "id": "Us2TE6nNHPPk"
      },
      "execution_count": null,
      "outputs": []
    },
    {
      "cell_type": "code",
      "source": [
        "df_csv = pd.read_csv('/content/Toxic_Tracker.csv', sep=',')\n",
        "\n",
        "df_csv_half1 = df_csv[df_csv['RSEI Hazard'] == 0]\n",
        "df_csv_half2 = df_csv[df_csv['RSEI Hazard'] == 1]\n",
        "\n",
        "\n",
        "#down sample the data\n",
        "df_csv_half1_downsampled = resample(df_csv, replace=False, n_samples=1000, random_state=42)\n",
        "df_csv_half2_downsampled = resample(df_csv, replace=False, n_samples=1000, random_state=42)\n",
        "df_csv_oncated = pd.concat([df_csv_half1_downsampled, df_csv_half2_downsampled])\n",
        "\n",
        "X = df_csv_oncated.drop(['RSEI Hazard'], axis=1)\n",
        "y = df_csv_oncated['RSEI Hazard']\n",
        "\n",
        "X = df_csv_oncated.drop(['RSEI Hazard'], axis=1).copy()\n",
        "y = df_csv_oncated['RSEI Hazard'].copy()\n",
        "\n",
        "\n",
        "#encoding data\n",
        "X_encoded = pd.get_dummies(X, columns=['TRI Facility Name', 'ZIP Code', 'City',\n",
        "       'County', 'State', 'Chemical'], dtype=int)\n",
        "\n",
        "#Centering and scaling the data\n",
        "X_train, X_test, y_train, y_test = train_test_split(X_encoded, y, random_state=42)\n",
        "X_train_scaled = scale(X_train)\n",
        "X_test_scaled = scale(X_test)\n",
        "\n",
        "clfm_"
      ],
      "metadata": {
        "id": "3P1ymozJMm_I"
      },
      "execution_count": null,
      "outputs": []
    },
    {
      "cell_type": "markdown",
      "source": [],
      "metadata": {
        "id": "FHDJjmDKI-QH"
      }
    }
  ]
}